{
 "cells": [
  {
   "cell_type": "code",
   "execution_count": 124,
   "metadata": {},
   "outputs": [],
   "source": [
    "import pandas as pd\n",
    "import numpy as np\n",
    "from datetime import datetime\n",
    "import numpy_financial as npf"
   ]
  },
  {
   "cell_type": "code",
   "execution_count": 125,
   "metadata": {},
   "outputs": [],
   "source": [
    "#Reading data from excel\n",
    "raw_data = pd.read_excel(\"../test.xlsx\")"
   ]
  },
  {
   "cell_type": "code",
   "execution_count": 95,
   "metadata": {},
   "outputs": [],
   "source": [
    "# Parsing the dates and keeping null incase it's unparsable\n",
    "# date_columns = [\"Disbursal date\"]\n",
    "# for col in date_columns:\n",
    "#     raw_data[col] = pd.to_datetime(raw_data[col], errors=\"coerce\")"
   ]
  },
  {
   "cell_type": "code",
   "execution_count": 126,
   "metadata": {},
   "outputs": [],
   "source": [
    "# #adding 0 values for missing numerical data\n",
    "# raw_data.fillna({\n",
    "#     \"Loan amount\": 0,\n",
    "#     \"Days late\": 0,\n",
    "#     \"Monthly payment\": 0,\n",
    "#     \"Outstanding principal\": 0,\n",
    "#     \"Repaid principal\": 0,\n",
    "#     \"Outstanding interest\": 0,\n",
    "#     \"Repaid interest\": 0,\n",
    "#     \"DTI\": 0,\n",
    "#     \"Borrower income\": 0,\n",
    "#     \"Annual profit\": 0,\n",
    "#     \"Arrears\": 0\n",
    "# }, inplace=True)"
   ]
  },
  {
   "cell_type": "code",
   "execution_count": 97,
   "metadata": {},
   "outputs": [],
   "source": [
    "# #Separating Raw data based on borrower type\n",
    "# allowed_borrower_types = [\"individual\", \"business\"]\n",
    "\n",
    "# valid_df = raw_data[raw_data[\"Borrower type\"].isin(allowed_borrower_types)]\n",
    "# if len(valid_df) != len(raw_data):\n",
    "#     invalid_df = raw_data[~raw_data[\"Borrower type\"].isin(allowed_borrower_types)]\n",
    "#     print(\"These data have invalid borrower type\", invalid_df)\n",
    "\n",
    "# table_individual = valid_df[valid_df['Borrower type']==\"individual\"]\n",
    "# table_business = valid_df[valid_df['Borrower type']==\"business\"]\n"
   ]
  },
  {
   "cell_type": "code",
   "execution_count": 98,
   "metadata": {},
   "outputs": [],
   "source": [
    "#Preprocessing Data based on borrower type\n",
    "\n",
    "# columns_required_for_both = [\n",
    "# \"Borrower ID\", \"Loan ID\", \"Credit score\", \"Loan amount\", \"Disbursal date\", \"Interest rate\", \"Loan term\", \"Borrower type\", \"Loan type\", \n",
    "# \"Expected repayment date\", \"Loan status\", \"Days late\", \"Monthly payment\", \"Outstanding principal\", \"Repaid principal\", \"payments\", \"Outstanding interest\", \n",
    "# \"Repaid interest\", \"Repayment date\", \"Delay interest\", \"Arrears\"\n",
    "# ]\n",
    "# columns_required_for_individual= columns_required_for_both + [\"Employment status\", \"DTI\", \"Borrower income\", \"Last debt payment date\"]\n",
    "# columns_required_for_business= columns_required_for_both + [\"Annual profit\"]"
   ]
  },
  {
   "cell_type": "code",
   "execution_count": 99,
   "metadata": {},
   "outputs": [],
   "source": [
    "# table_individual = valid_df[columns_required_for_individual]\n",
    "# table_individual = valid_df[columns_required_for_business]"
   ]
  },
  {
   "cell_type": "code",
   "execution_count": null,
   "metadata": {},
   "outputs": [
    {
     "name": "stdout",
     "output_type": "stream",
     "text": [
      "count=42\n"
     ]
    }
   ],
   "source": [
    "def detect_loan_anomalies(df: pd.DataFrame):\n",
    "    anomalies_dict = {}\n",
    "\n",
    "    for _, loan in df.iterrows():\n",
    "        loan_id = loan[\"Loan ID\"]\n",
    "        anomalies_dict[loan_id] = set()\n",
    "\n",
    "        # Data validation anomalities\n",
    "        if loan[\"Interest rate\"] < 0 or loan[\"Interest rate\"] > 100:\n",
    "            anomalies_dict[loan_id].add(\"Invalid interest rate\")\n",
    "\n",
    "        if loan[\"Loan term\"] <= 0:\n",
    "            anomalies_dict[loan_id].add(\"Loan term must be positive non-zero value\")\n",
    "\n",
    "        if loan[\"Credit score\"] not in [\"A\", \"B\", \"C\", \"D\"]:\n",
    "            anomalies_dict[loan_id].add(\"Credit score not in range\")\n",
    "        \n",
    "        if loan[\"Loan status\"] == \"repaid\" and loan[\"Outstanding principal\"] > 0:\n",
    "            anomalies_dict[loan_id].add(\"Outstanding principal must be 0 when loan status is repaid\")\n",
    "        \n",
    "        if loan[\"Loan amount\"] < 0:\n",
    "            anomalies_dict[loan_id].add(\"Loan amount must be positive\")\n",
    "        \n",
    "        # Detecting repayment date anomaly\n",
    "        days_late = loan[\"Days late\"]\n",
    "        if days_late > 90:\n",
    "            anomalies_dict[loan_id].add(f\"Re-payment date anomaly as {days_late} is greater than 90 days threshold\")\n",
    "\n",
    "        #Detecting payments history anomaly\n",
    "        payments = loan[\"payments\"]\n",
    "        if isinstance(payments, str):\n",
    "            try:\n",
    "                payments = eval(payments)\n",
    "                #Checking if most of the payments state are pending late or paid with delay\n",
    "                threshold = 0.5\n",
    "                matching_count = sum(payment['State'] in ['pending late', 'paid with delay'] for payment in payments)\n",
    "                if matching_count/len(payments) > threshold:\n",
    "                    anomalies_dict[loan_id].add(f\"Payments history are not consistent\")\n",
    "                \n",
    "            except Exception as e:\n",
    "                    # print(f\"Payment history parsing error {e} for {loan_id}\")\n",
    "                    anomalies_dict[loan_id].add(f\"Payment history parsing error {e}\")\n",
    "\n",
    "        #Checking if expected repayment date was earlier than actual repayment date\n",
    "        expected_date = pd.to_datetime(loan['Expected repayment date'], errors='coerce')\n",
    "        repayment_date = pd.to_datetime(loan['Repayment date'], errors='coerce')    \n",
    "        if pd.notna(expected_date) and pd.notna(repayment_date):\n",
    "            date_dif = repayment_date-expected_date\n",
    "            if date_dif.days > 90:\n",
    "                anomalies_dict[loan_id].add(f\"90 days crossed between expected repayment date and actual repayment date\")\n",
    "\n",
    "    return anomalies_dict\n",
    "\n",
    "anomalies = detect_loan_anomalies(raw_data)\n",
    "# print(anomalies)\n",
    "# print(anomalies[anomalies[\"Anomalies\"] != \"Normal\"])\n",
    "count = 0\n",
    "all_results = []\n",
    "for loan_id, anomalies in anomalies.items():\n",
    "    if not anomalies:\n",
    "        count += 1\n",
    "    all_results.append({\n",
    "        'Loan ID': loan_id, \n",
    "        'Anomalies': \", \".join(anomalies) if anomalies else \"Normal\"\n",
    "    })\n",
    "anomaly_results = pd.DataFrame(all_results)\n",
    "\n",
    "print(f\"{count=}\")\n",
    "# print((anomaly_results[anomaly_results[\"Anomalies\"] != \"Normal\"]))\n",
    "anomaly_results.to_excel(\"Output.xlsx\")\n"
   ]
  },
  {
   "cell_type": "code",
   "execution_count": null,
   "metadata": {},
   "outputs": [],
   "source": [
    "def calculate_xirr(cashflows, dates):\n",
    "    \"\"\"Calculate XIRR for given cashflows and dates\"\"\"\n",
    "    date_deltas = [(date - dates[0]).days for date in dates]\n",
    "    rate = npf.xirr(cashflows, date_deltas)\n",
    "    return rate"
   ]
  },
  {
   "cell_type": "code",
   "execution_count": null,
   "metadata": {},
   "outputs": [],
   "source": []
  }
 ],
 "metadata": {
  "kernelspec": {
   "display_name": ".env",
   "language": "python",
   "name": "python3"
  },
  "language_info": {
   "codemirror_mode": {
    "name": "ipython",
    "version": 3
   },
   "file_extension": ".py",
   "mimetype": "text/x-python",
   "name": "python",
   "nbconvert_exporter": "python",
   "pygments_lexer": "ipython3",
   "version": "3.13.1"
  }
 },
 "nbformat": 4,
 "nbformat_minor": 2
}
